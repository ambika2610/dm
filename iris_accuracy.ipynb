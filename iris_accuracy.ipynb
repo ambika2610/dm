{
 "cells": [
  {
   "cell_type": "code",
   "execution_count": 29,
   "metadata": {},
   "outputs": [
    {
     "name": "stdout",
     "output_type": "stream",
     "text": [
      "Accuracy on the Test Data \n",
      "0.911111111111\n"
     ]
    }
   ],
   "source": [
    "import numpy as np\n",
    "import scipy\n",
    "import matplotlib as mat\n",
    "from matplotlib import pyplot as plt\n",
    "import sklearn\n",
    "import pandas as pd\n",
    "\n",
    "from sklearn import model_selection\n",
    "\n",
    "from sklearn.tree import DecisionTreeClassifier\n",
    "from sklearn.neighbors import KNeighborsClassifier\n",
    "from sklearn.svm import SVC\n",
    "\n",
    "from sklearn.metrics import classification_report\n",
    "from sklearn.metrics import accuracy_score\n",
    "from sklearn.metrics import confusion_matrix\n",
    "\n",
    "from sklearn.datasets import load_iris\n",
    "\n",
    "\n",
    "iris=load_iris()\n",
    "X,Y=iris.data,iris.target\n",
    "\n",
    "Val_size = 0.30\n",
    "random_seed = 3\n",
    "X_train,X_test,Y_train, Y_test = model_selection.train_test_split(X,Y,test_size = Val_size,random_state=random_seed)\n",
    "\n",
    "deciTree = DecisionTreeClassifier()\n",
    "deciTree.fit(X_train, Y_train)\n",
    "predictions = deciTree.predict(X_test)\n",
    "print(\"Accuracy on the Test Data \")\n",
    "print(accuracy_score(Y_test, predictions))"
   ]
  },
  {
   "cell_type": "code",
   "execution_count": null,
   "metadata": {
    "collapsed": true
   },
   "outputs": [],
   "source": []
  },
  {
   "cell_type": "code",
   "execution_count": null,
   "metadata": {
    "collapsed": true
   },
   "outputs": [],
   "source": []
  }
 ],
 "metadata": {
  "kernelspec": {
   "display_name": "Python 3",
   "language": "python",
   "name": "python3"
  },
  "language_info": {
   "codemirror_mode": {
    "name": "ipython",
    "version": 3
   },
   "file_extension": ".py",
   "mimetype": "text/x-python",
   "name": "python",
   "nbconvert_exporter": "python",
   "pygments_lexer": "ipython3",
   "version": "3.6.3"
  }
 },
 "nbformat": 4,
 "nbformat_minor": 2
}
